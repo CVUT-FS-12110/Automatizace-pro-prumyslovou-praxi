{
 "cells": [
  {
   "cell_type": "markdown",
   "metadata": {},
   "source": [
    "# Analýza hlavních komponent (Principal Component Analysis - PCA)"
   ]
  },
  {
   "cell_type": "markdown",
   "metadata": {},
   "source": [
    "<div style=\"float: left; width:550px; margin-right: 20px\">\n",
    "Analýza hlavních komponent (Principal Component Analysis, PCA) je transformace vstupních dat sloužící k k jejich dekoleraci. <br><br>\n",
    "\n",
    "Z následujícího vzorce je vidět, že PCA je jen přepsáním vstupu do jiné souřadné soustavy:<br><br>\n",
    "\n",
    "${\\displaystyle Y=XP}$<br><br>\n",
    "\n",
    "kde $X$ je centrovaná matice $n \\times d$ se vstupními $d$-rozměrnými daty v $n$ řádcích. $Y$ je obdobná matice výstupních dat, $P$ je $d \\times d$ matice vlastních vektorů kovarianční matice ${\\displaystyle C_{X}}$ splňující vztah ${\\displaystyle C_{X}=P\\Lambda P^{T}}$, kde ${\\displaystyle \\Lambda } $ je diagonální matice obsahující na diagonále vlastní čísla ${\\displaystyle C_{X}}$ a ${\\displaystyle P}$  je ortonormální matice vlastních vektorů ${\\displaystyle C_{X}}$, tedy ${\\displaystyle P^{T}P=I_{d}}$, kde ${\\displaystyle I_{d}}$ je jednotková matice dimenze  ${\\displaystyle d}$.<br><br>\n",
    "\n",
    "Vlastní vektory (sloupce matice $P$) tvoří novou souřadnou soustavu vstupních dat. Centrování matice $X$ dosáhneme odečtením příslušného výběrového průměru od každého sloupce.<br><br>\n",
    "\n",
    "Na obrázku 1 je zobrazen výsledek PCA na dvourozměrných vstupních datech. Delší vektor je hlavní komponenta, směr určuje vlastní vektor náležející většímu vlatnímu číslu. Tato komponenta vysvětluje nějvíce veriancí vstupních dat. Druhý, kratší, vektor, je určen vlastním vektorem s měnším vlatním číslem. Všechny vlastní vektory jsou na sebe samozřejmě kolmé. <br><br>\n",
    "\n",
    "</div>\n",
    "<div style=\"float: left; width: 402px\">\n",
    "<img src='https://blog.bioturing.com/wp-content/uploads/2018/11/Blog_pca_6b.png' width=400>\n",
    "<center><i>Obr. 1 Výsledek PCA pro dvourozměrná data, delší vektro je nvýznamnější hlavní komponenta, druhy vektor je druhá nejvýznamnější komponenta. 2D data mají 2 hlavní komponenty.</i></center>\n",
    "</div>\n",
    "<div style=\"clear: both\"></div>\n",
    "\n",
    "Po normalizaci vlastních čísel, kdy jejích součet dává 1, tyto normalizovaná vlastní čísla určují kolik procent variancí je ve směru určeném náležejícím vlastním vaktorem vysvětleno. Pokud budou např. u trojrozměrných vstupních dat normalizovaná vlastní čísla $[0,7; 0,2; 0,1]$, pak nejvýznamnější komponenta vysvětluje 70% variancí, dvě nejvýznamnější komponenty 90% variancí.\n",
    "\n",
    "Anlaýzu hlavních komponent lze využít pro:\n",
    "- Snížení dimenizonality\n",
    "- Filtraci dat zpětnou transoformací s nulováním vlastních vektorů náležejících nízkým vlastním číslům\n",
    "- Kompresi obrazových dat\n",
    "- ...\n",
    "    "
   ]
  },
  {
   "cell_type": "markdown",
   "metadata": {},
   "source": [
    "## Příklad filtrace obrázků"
   ]
  },
  {
   "cell_type": "markdown",
   "metadata": {},
   "source": [
    "Nejprve načteme potřebné knihovny\n",
    "\n",
    "- numpy: vědecká knihovna pro práci s daty\n",
    "- matplotlib: knihovna pro vykreslování grafů\n",
    "- sklearn: vědecká knihovna pro strojové učení\n",
    " * PCA: knihovna pro analýzu hlavních komponent\n",
    " * load_digits: dataset obsahující MNIST data - obrázky ručně psaných čísel"
   ]
  },
  {
   "cell_type": "code",
   "execution_count": 1,
   "metadata": {
    "ExecuteTime": {
     "end_time": "2020-01-13T09:44:38.821461Z",
     "start_time": "2020-01-13T09:44:38.265073Z"
    }
   },
   "outputs": [],
   "source": [
    "import numpy as np\n",
    "import matplotlib.pyplot as plt\n",
    "from sklearn.decomposition import PCA\n",
    "from sklearn.datasets import load_digits"
   ]
  },
  {
   "cell_type": "markdown",
   "metadata": {},
   "source": [
    "Načteme dataset a zkontrolujeme jeho rozměr - 1797 obrázků s rozlišením 8x8 (vektor 64)"
   ]
  },
  {
   "cell_type": "code",
   "execution_count": 2,
   "metadata": {
    "ExecuteTime": {
     "end_time": "2020-01-13T09:23:27.766030Z",
     "start_time": "2020-01-13T09:23:27.658089Z"
    }
   },
   "outputs": [
    {
     "data": {
      "text/plain": [
       "(1797, 64)"
      ]
     },
     "metadata": {},
     "output_type": "display_data"
    }
   ],
   "source": [
    "d = load_digits()\n",
    "display(d.data.shape)"
   ]
  },
  {
   "cell_type": "markdown",
   "metadata": {},
   "source": [
    "Nadefinujeme funkci, která vykreslí prvních 40 orázků v řádcích po deseti."
   ]
  },
  {
   "cell_type": "code",
   "execution_count": 3,
   "metadata": {
    "ExecuteTime": {
     "end_time": "2020-01-13T09:35:12.885968Z",
     "start_time": "2020-01-13T09:35:12.879222Z"
    }
   },
   "outputs": [],
   "source": [
    "def plot_digits(data):\n",
    "    plt.figure()\n",
    "    for idx in range(40):\n",
    "        plt.subplot(4, 10, idx+1)\n",
    "        fig = plt.imshow(data[idx].reshape(8,8), cmap='gray')\n",
    "        fig.axes.get_xaxis().set_visible(False)\n",
    "        fig.axes.get_yaxis().set_visible(False)"
   ]
  },
  {
   "cell_type": "markdown",
   "metadata": {
    "ExecuteTime": {
     "end_time": "2020-01-13T09:28:12.290833Z",
     "start_time": "2020-01-13T09:28:12.284599Z"
    }
   },
   "source": [
    "Vytvoříme si uměle zašuměná data pomocí generátoru psedonáhodných čísel s normálním rozdělením funkcí [`np.random.normal()`](https://docs.scipy.org/doc/numpy-1.15.0/reference/generated/numpy.random.normal.html?target='_blank') ,\n",
    "kde první parametr je pole středních hodnot (vygeneruje se pole se stejným rozměrem jako pole data) a druhý parametr \n",
    "je standardní směrodatná odchylka). Z funkce je navráceno pole, kde jsou data náhodně pozměněna dle zadaných parametrů."
   ]
  },
  {
   "cell_type": "code",
   "execution_count": 4,
   "metadata": {
    "ExecuteTime": {
     "end_time": "2020-01-13T09:35:10.549886Z",
     "start_time": "2020-01-13T09:35:10.534376Z"
    }
   },
   "outputs": [],
   "source": [
    "noisy = np.random.normal(d.data, 4)"
   ]
  },
  {
   "cell_type": "markdown",
   "metadata": {
    "ExecuteTime": {
     "end_time": "2020-01-13T09:29:57.851149Z",
     "start_time": "2020-01-13T09:29:57.844494Z"
    }
   },
   "source": [
    "Nyní si můžeme pomocí funkce `plot_digits` vykreslit prvních 40 vzorků původních a zašuměných dat."
   ]
  },
  {
   "cell_type": "code",
   "execution_count": 5,
   "metadata": {
    "ExecuteTime": {
     "end_time": "2020-01-13T09:35:17.577961Z",
     "start_time": "2020-01-13T09:35:14.382982Z"
    }
   },
   "outputs": [
    {
     "data": {
      "image/png": "[encoded data removed]",
      "text/plain": [
       "<matplotlib.figure.Figure at 0x7fa7be0e2a58>"
      ]
     },
     "metadata": {},
     "output_type": "display_data"
    },
    {
     "data": {
      "image/png": "[encoded data removed]",
      "text/plain": [
       "<matplotlib.figure.Figure at 0x7fa7be0e2b00>"
      ]
     },
     "metadata": {},
     "output_type": "display_data"
    }
   ],
   "source": [
    "plot_digits(d.data)\n",
    "plot_digits(noisy)"
   ]
  },
  {
   "cell_type": "markdown",
   "metadata": {},
   "source": [
    "Vytvoříme objekt [`PCA()`](https://scikit-learn.org/stable/modules/generated/sklearn.decomposition.PCA.html?target='_blank'), kerý poskytuje algoritmus pro analýzu hlavních komponent.\n",
    "Argumentem při vytváření objektu je kolik procent variancí chceme uchovat (v tomot případě 50 %). Nad tímto objektem\n",
    "zavoláme jeho metodu (funkci) [`fit()`](https://scikit-learn.org/stable/modules/generated/sklearn.decomposition.PCA.html#sklearn.decomposition.PCA.fit?target='_blank') do které pošleme vstupní data (zašuměná). Návratovou hodnotou je natrénovaná instance objektu pro analýzu hlavních komponent.\n",
    "\n",
    "Instance objektu mimo jiné obsahuje atribut (proměnnou) `n_components_`, která obsahuje počet komponent potřebných pro splnění podmínky minimálně 50&nbsp;% vysvětlených variancí. V tomto případě potřebujeme zachovat 12 nejvýznamějších komponent."
   ]
  },
  {
   "cell_type": "code",
   "execution_count": 6,
   "metadata": {
    "ExecuteTime": {
     "end_time": "2020-01-13T09:36:56.485083Z",
     "start_time": "2020-01-13T09:36:56.454094Z"
    }
   },
   "outputs": [
    {
     "data": {
      "text/plain": [
       "12"
      ]
     },
     "metadata": {},
     "output_type": "display_data"
    }
   ],
   "source": [
    "pca = PCA(0.5).fit(noisy)\n",
    "display(pca.n_components_)"
   ]
  },
  {
   "cell_type": "markdown",
   "metadata": {
    "ExecuteTime": {
     "end_time": "2020-01-13T09:36:33.358800Z",
     "start_time": "2020-01-13T09:36:33.351480Z"
    }
   },
   "source": [
    "V atributu `explained_variance_ratio_` je uloženo kolik každá z 12 nejvýznamnějších komponent vysvětluje variancí \n",
    "v datech (první 8,69 %, druhá 8,12 %, atd.)."
   ]
  },
  {
   "cell_type": "code",
   "execution_count": 7,
   "metadata": {
    "ExecuteTime": {
     "end_time": "2020-01-13T09:37:17.086195Z",
     "start_time": "2020-01-13T09:37:17.078608Z"
    }
   },
   "outputs": [
    {
     "data": {
      "text/plain": [
       "array([0.08812961, 0.08086216, 0.07142774, 0.0519516 , 0.03987031,\n",
       "       0.03383251, 0.03093735, 0.02718758, 0.02593153, 0.02313106,\n",
       "       0.01997252, 0.0192522 ])"
      ]
     },
     "metadata": {},
     "output_type": "display_data"
    }
   ],
   "source": [
    "display(pca.explained_variance_ratio_)"
   ]
  },
  {
   "cell_type": "markdown",
   "metadata": {},
   "source": [
    "Jejich součtem získáme celkový podíl variancí vysvětlených 12 nejvýznamnějšími komponentami (51,35 % > 50 %)."
   ]
  },
  {
   "cell_type": "code",
   "execution_count": 8,
   "metadata": {
    "ExecuteTime": {
     "end_time": "2020-01-13T09:37:55.093521Z",
     "start_time": "2020-01-13T09:37:55.086106Z"
    }
   },
   "outputs": [
    {
     "data": {
      "text/plain": [
       "0.5124861620804143"
      ]
     },
     "metadata": {},
     "output_type": "display_data"
    }
   ],
   "source": [
    "display(np.sum(pca.explained_variance_ratio_))"
   ]
  },
  {
   "cell_type": "markdown",
   "metadata": {},
   "source": [
    "Metodou [`transform()`](https://scikit-learn.org/stable/modules/generated/sklearn.decomposition.PCA.html#sklearn.decomposition.PCA.transform?target='_blank') transformujeme vstupní data do nového souřadného systému (se zachováním pouze 12 nejvýznamnějších komponent, ostatní se zahodí). Výsledkem je tedy pole 1797 obrázků v novém 12rozměrném souřadném systému (komprese, redukce dimenzionality)."
   ]
  },
  {
   "cell_type": "code",
   "execution_count": 9,
   "metadata": {
    "ExecuteTime": {
     "end_time": "2020-01-13T09:40:50.593818Z",
     "start_time": "2020-01-13T09:40:50.584092Z"
    }
   },
   "outputs": [
    {
     "data": {
      "text/plain": [
       "(1797, 12)"
      ]
     },
     "metadata": {},
     "output_type": "display_data"
    }
   ],
   "source": [
    "components = pca.transform(noisy)\n",
    "display(components.shape)"
   ]
  },
  {
   "cell_type": "markdown",
   "metadata": {},
   "source": [
    "Z nového souřadného systému zachovávajících pouze 12 nejvýznamnějších komponent můžeme data zpětně transformovat do \n",
    "původního souřadného systému pomocí funkce [`inverse_transform()`](https://scikit-learn.org/stable/modules/generated/sklearn.decomposition.PCA.html#sklearn.decomposition.PCA.inverse_transform?target='_blank') a získat tak původní obrázky bez hlavních komponent vysvětlujících nízká procenta variancí, tedy týkajících se pravděpodobně šumu (filtrace)."
   ]
  },
  {
   "cell_type": "code",
   "execution_count": 10,
   "metadata": {
    "ExecuteTime": {
     "end_time": "2020-01-13T09:43:11.739565Z",
     "start_time": "2020-01-13T09:43:10.201147Z"
    }
   },
   "outputs": [
    {
     "data": {
      "image/png": "[encoded data removed]",
      "text/plain": [
       "<matplotlib.figure.Figure at 0x7fa7bb475550>"
      ]
     },
     "metadata": {},
     "output_type": "display_data"
    }
   ],
   "source": [
    "filtered = pca.inverse_transform(components)\n",
    "plot_digits(filtered)"
   ]
  },
  {
   "cell_type": "code",
   "execution_count": null,
   "metadata": {},
   "outputs": [],
   "source": []
  }
 ],
 "metadata": {
  "kernelspec": {
   "display_name": "Python 3",
   "language": "python",
   "name": "python3"
  },
  "language_info": {
   "codemirror_mode": {
    "name": "ipython",
    "version": 3
   },
   "file_extension": ".py",
   "mimetype": "text/x-python",
   "name": "python",
   "nbconvert_exporter": "python",
   "pygments_lexer": "ipython3",
   "version": "3.6.3"
  },
  "varInspector": {
   "cols": {
    "lenName": 16,
    "lenType": 16,
    "lenVar": 40
   },
   "kernels_config": {
    "python": {
     "delete_cmd_postfix": "",
     "delete_cmd_prefix": "del ",
     "library": "var_list.py",
     "varRefreshCmd": "print(var_dic_list())"
    },
    "r": {
     "delete_cmd_postfix": ") ",
     "delete_cmd_prefix": "rm(",
     "library": "var_list.r",
     "varRefreshCmd": "cat(var_dic_list()) "
    }
   },
   "types_to_exclude": [
    "module",
    "function",
    "builtin_function_or_method",
    "instance",
    "_Feature"
   ],
   "window_display": false
  }
 },
 "nbformat": 4,
 "nbformat_minor": 2
}
