{
 "cells": [
  {
   "cell_type": "markdown",
   "metadata": {},
   "source": [
    "# Analýza dat Českého statistického úřadu ze sčítání lidu 2011\n",
    "\n",
    "Tento příklad se zabývá ukázkou datové analýzy, kde zdrojovými daty jsou předzpracované výsledky ze sčítání lidu, domů a bytů 2011 poskytované ČSU."
   ]
  },
  {
   "cell_type": "markdown",
   "metadata": {},
   "source": [
    "## Import knihoven\n",
    "\n",
    "Pro potřeby zpracování je nutné importovat knihovny:\n",
    "\n",
    "- numpy : Knihovna pro vědecké výpočty\n",
    "- pandas : Knihovna pro datovou analýzu\n",
    "- seaborn : Knihovna pro statistickou vizualizaci dat"
   ]
  },
  {
   "cell_type": "code",
   "execution_count": 1,
   "metadata": {},
   "outputs": [],
   "source": [
    "import numpy as np\n",
    "import pandas as pd\n",
    "import seaborn as sns\n",
    "\n",
    "# jupyter notebook \"magic function\", zkratka pro zobrazování matplotlib grafů\n",
    "%matplotlib inline "
   ]
  },
  {
   "cell_type": "markdown",
   "metadata": {},
   "source": [
    "## Načtení dat\n",
    "\n",
    "Data pro analýzu jsou uložena na internetovém serveru a jsou přístupná přes protokol http. Jsou uložena ve formátu \n",
    "Comma-Separetd Values (CSV) a v textovém souboru (TXT).\n",
    "\n",
    "soubor obyvatelstvo.csv obsahuje samotná data pro analýzu, kde každý sloupec je označen kódem. Význam těchto kódů je uložen v souboru popis.txt.\n",
    "\n",
    "Data lze načíst například pomocí funkce read_csv z knihovny Pandas, která data načte do paměti, zpracuje a vrátí ve formátu [Pandas Dataframe](https://pandas.pydata.org/pandas-docs/stable/reference/api/pandas.DataFrame.html?target=\"_blank\")."
   ]
  },
  {
   "cell_type": "code",
   "execution_count": 2,
   "metadata": {},
   "outputs": [],
   "source": [
    "data = pd.read_csv('http://aspicc.fs.cvut.cz/static/obyvatelstvo.csv')\n",
    "popis = pd.read_csv('http://aspicc.fs.cvut.cz/static/popis.txt')"
   ]
  },
  {
   "cell_type": "markdown",
   "metadata": {},
   "source": [
    "Proměnná data nyní obsahuje předzpracovaná data pro analýzu a v proměnné popis význam kódů sloupců, obě proměnné jsou ve formátu [Pandas Dataframe](https://pandas.pydata.org/pandas-docs/stable/reference/api/pandas.DataFrame.html?target=\"_blank\"), pro jejich vypsání je možné použít funkci [`print()`](https://docs.python.org/3/library/functions.html?target=_blank#print), nebo v případě IPython lépe funkci [`display()`](https://ipython.readthedocs.io/en/stable/api/generated/IPython.display.html?taget=_blank#module-IPython.display)."
   ]
  },
  {
   "cell_type": "code",
   "execution_count": 3,
   "metadata": {},
   "outputs": [
    {
     "data": {
      "text/html": [
       "<div>\n",
       "<style scoped>\n",
       "    .dataframe tbody tr th:only-of-type {\n",
       "        vertical-align: middle;\n",
       "    }\n",
       "\n",
       "    .dataframe tbody tr th {\n",
       "        vertical-align: top;\n",
       "    }\n",
       "\n",
       "    .dataframe thead th {\n",
       "        text-align: right;\n",
       "    }\n",
       "</style>\n",
       "<table border=\"1\" class=\"dataframe\">\n",
       "  <thead>\n",
       "    <tr style=\"text-align: right;\">\n",
       "      <th></th>\n",
       "      <th>typuz_naz</th>\n",
       "      <th>nazev</th>\n",
       "      <th>uzcis</th>\n",
       "      <th>uzkod</th>\n",
       "      <th>vse1111</th>\n",
       "      <th>vse1112</th>\n",
       "      <th>vse1113</th>\n",
       "      <th>vse1121</th>\n",
       "      <th>vse1122</th>\n",
       "      <th>vse1123</th>\n",
       "      <th>...</th>\n",
       "      <th>vse6193</th>\n",
       "      <th>vse61101</th>\n",
       "      <th>vse61102</th>\n",
       "      <th>vse61103</th>\n",
       "      <th>vse61111</th>\n",
       "      <th>vse61112</th>\n",
       "      <th>vse61113</th>\n",
       "      <th>vse61121</th>\n",
       "      <th>vse61122</th>\n",
       "      <th>vse61123</th>\n",
       "    </tr>\n",
       "  </thead>\n",
       "  <tbody>\n",
       "    <tr>\n",
       "      <th>0</th>\n",
       "      <td>kraj</td>\n",
       "      <td>Hlavní město Praha</td>\n",
       "      <td>100</td>\n",
       "      <td>3018</td>\n",
       "      <td>1268796.0</td>\n",
       "      <td>613738.0</td>\n",
       "      <td>655058.0</td>\n",
       "      <td>535604.0</td>\n",
       "      <td>285543.0</td>\n",
       "      <td>250061.0</td>\n",
       "      <td>...</td>\n",
       "      <td>294698.0</td>\n",
       "      <td>231135.0</td>\n",
       "      <td>83326.0</td>\n",
       "      <td>147809.0</td>\n",
       "      <td>147461.0</td>\n",
       "      <td>73622.0</td>\n",
       "      <td>73839.0</td>\n",
       "      <td>123182.0</td>\n",
       "      <td>72214.0</td>\n",
       "      <td>50968.0</td>\n",
       "    </tr>\n",
       "    <tr>\n",
       "      <th>1</th>\n",
       "      <td>kraj</td>\n",
       "      <td>Středočeský kraj</td>\n",
       "      <td>100</td>\n",
       "      <td>3026</td>\n",
       "      <td>1289211.0</td>\n",
       "      <td>637252.0</td>\n",
       "      <td>651959.0</td>\n",
       "      <td>507375.0</td>\n",
       "      <td>280621.0</td>\n",
       "      <td>226754.0</td>\n",
       "      <td>...</td>\n",
       "      <td>334656.0</td>\n",
       "      <td>266140.0</td>\n",
       "      <td>102500.0</td>\n",
       "      <td>163640.0</td>\n",
       "      <td>174154.0</td>\n",
       "      <td>87125.0</td>\n",
       "      <td>87029.0</td>\n",
       "      <td>66595.0</td>\n",
       "      <td>40072.0</td>\n",
       "      <td>26523.0</td>\n",
       "    </tr>\n",
       "    <tr>\n",
       "      <th>2</th>\n",
       "      <td>kraj</td>\n",
       "      <td>Jihočeský kraj</td>\n",
       "      <td>100</td>\n",
       "      <td>3034</td>\n",
       "      <td>628336.0</td>\n",
       "      <td>308296.0</td>\n",
       "      <td>320040.0</td>\n",
       "      <td>245650.0</td>\n",
       "      <td>135702.0</td>\n",
       "      <td>109948.0</td>\n",
       "      <td>...</td>\n",
       "      <td>169649.0</td>\n",
       "      <td>142858.0</td>\n",
       "      <td>55375.0</td>\n",
       "      <td>87483.0</td>\n",
       "      <td>90905.0</td>\n",
       "      <td>45122.0</td>\n",
       "      <td>45783.0</td>\n",
       "      <td>26619.0</td>\n",
       "      <td>15605.0</td>\n",
       "      <td>11014.0</td>\n",
       "    </tr>\n",
       "    <tr>\n",
       "      <th>3</th>\n",
       "      <td>kraj</td>\n",
       "      <td>Plzeňský kraj</td>\n",
       "      <td>100</td>\n",
       "      <td>3042</td>\n",
       "      <td>570401.0</td>\n",
       "      <td>282137.0</td>\n",
       "      <td>288264.0</td>\n",
       "      <td>222189.0</td>\n",
       "      <td>124170.0</td>\n",
       "      <td>98019.0</td>\n",
       "      <td>...</td>\n",
       "      <td>149000.0</td>\n",
       "      <td>130064.0</td>\n",
       "      <td>51112.0</td>\n",
       "      <td>78952.0</td>\n",
       "      <td>74891.0</td>\n",
       "      <td>37205.0</td>\n",
       "      <td>37686.0</td>\n",
       "      <td>31752.0</td>\n",
       "      <td>19261.0</td>\n",
       "      <td>12491.0</td>\n",
       "    </tr>\n",
       "    <tr>\n",
       "      <th>4</th>\n",
       "      <td>kraj</td>\n",
       "      <td>Karlovarský kraj</td>\n",
       "      <td>100</td>\n",
       "      <td>3051</td>\n",
       "      <td>295595.0</td>\n",
       "      <td>145483.0</td>\n",
       "      <td>150112.0</td>\n",
       "      <td>121610.0</td>\n",
       "      <td>67238.0</td>\n",
       "      <td>54372.0</td>\n",
       "      <td>...</td>\n",
       "      <td>74334.0</td>\n",
       "      <td>62774.0</td>\n",
       "      <td>23914.0</td>\n",
       "      <td>38860.0</td>\n",
       "      <td>38270.0</td>\n",
       "      <td>19367.0</td>\n",
       "      <td>18903.0</td>\n",
       "      <td>24405.0</td>\n",
       "      <td>13850.0</td>\n",
       "      <td>10555.0</td>\n",
       "    </tr>\n",
       "  </tbody>\n",
       "</table>\n",
       "<p>5 rows × 175 columns</p>\n",
       "</div>"
      ],
      "text/plain": [
       "  typuz_naz               nazev  uzcis  uzkod    vse1111   vse1112   vse1113  \\\n",
       "0      kraj  Hlavní město Praha    100   3018  1268796.0  613738.0  655058.0   \n",
       "1      kraj    Středočeský kraj    100   3026  1289211.0  637252.0  651959.0   \n",
       "2      kraj      Jihočeský kraj    100   3034   628336.0  308296.0  320040.0   \n",
       "3      kraj       Plzeňský kraj    100   3042   570401.0  282137.0  288264.0   \n",
       "4      kraj    Karlovarský kraj    100   3051   295595.0  145483.0  150112.0   \n",
       "\n",
       "    vse1121   vse1122   vse1123  ...   vse6193  vse61101  vse61102  vse61103  \\\n",
       "0  535604.0  285543.0  250061.0  ...  294698.0  231135.0   83326.0  147809.0   \n",
       "1  507375.0  280621.0  226754.0  ...  334656.0  266140.0  102500.0  163640.0   \n",
       "2  245650.0  135702.0  109948.0  ...  169649.0  142858.0   55375.0   87483.0   \n",
       "3  222189.0  124170.0   98019.0  ...  149000.0  130064.0   51112.0   78952.0   \n",
       "4  121610.0   67238.0   54372.0  ...   74334.0   62774.0   23914.0   38860.0   \n",
       "\n",
       "   vse61111  vse61112  vse61113  vse61121  vse61122  vse61123  \n",
       "0  147461.0   73622.0   73839.0  123182.0   72214.0   50968.0  \n",
       "1  174154.0   87125.0   87029.0   66595.0   40072.0   26523.0  \n",
       "2   90905.0   45122.0   45783.0   26619.0   15605.0   11014.0  \n",
       "3   74891.0   37205.0   37686.0   31752.0   19261.0   12491.0  \n",
       "4   38270.0   19367.0   18903.0   24405.0   13850.0   10555.0  \n",
       "\n",
       "[5 rows x 175 columns]"
      ]
     },
     "metadata": {},
     "output_type": "display_data"
    },
    {
     "data": {
      "text/html": [
       "<div>\n",
       "<style scoped>\n",
       "    .dataframe tbody tr th:only-of-type {\n",
       "        vertical-align: middle;\n",
       "    }\n",
       "\n",
       "    .dataframe tbody tr th {\n",
       "        vertical-align: top;\n",
       "    }\n",
       "\n",
       "    .dataframe thead th {\n",
       "        text-align: right;\n",
       "    }\n",
       "</style>\n",
       "<table border=\"1\" class=\"dataframe\">\n",
       "  <thead>\n",
       "    <tr style=\"text-align: right;\">\n",
       "      <th></th>\n",
       "      <th>vse1111</th>\n",
       "      <th>Obyvatelstvo celkem</th>\n",
       "    </tr>\n",
       "  </thead>\n",
       "  <tbody>\n",
       "    <tr>\n",
       "      <th>0</th>\n",
       "      <td>vse1112</td>\n",
       "      <td>Obyvatelstvo muži</td>\n",
       "    </tr>\n",
       "    <tr>\n",
       "      <th>1</th>\n",
       "      <td>vse1113</td>\n",
       "      <td>Obyvatelstvo ženy</td>\n",
       "    </tr>\n",
       "    <tr>\n",
       "      <th>2</th>\n",
       "      <td>vse1121</td>\n",
       "      <td>Obyvatelstvo - svobodní</td>\n",
       "    </tr>\n",
       "    <tr>\n",
       "      <th>3</th>\n",
       "      <td>vse1122</td>\n",
       "      <td>Obyvatelstvo - svobodní - muži</td>\n",
       "    </tr>\n",
       "    <tr>\n",
       "      <th>4</th>\n",
       "      <td>vse1123</td>\n",
       "      <td>Obyvatelstvo - svobodní - ženy</td>\n",
       "    </tr>\n",
       "  </tbody>\n",
       "</table>\n",
       "</div>"
      ],
      "text/plain": [
       "   vse1111             Obyvatelstvo celkem\n",
       "0  vse1112               Obyvatelstvo muži\n",
       "1  vse1113               Obyvatelstvo ženy\n",
       "2  vse1121         Obyvatelstvo - svobodní\n",
       "3  vse1122  Obyvatelstvo - svobodní - muži\n",
       "4  vse1123  Obyvatelstvo - svobodní - ženy"
      ]
     },
     "metadata": {},
     "output_type": "display_data"
    }
   ],
   "source": [
    "display(data.head())\n",
    "display(popis.head())"
   ]
  },
  {
   "cell_type": "markdown",
   "metadata": {},
   "source": [
    "Řádky v promměné `data` jsou indexovány celými čísly od jedničky, jelikož při importu nebyl zadán název sloupce s indexy. V datech jsou smysluplné indexy dva: *typuz_nas* a *nazev*, tedy typ územní jednotky a její název. objektu typu `pd.DataFrame` je možné nastvit více indexů pomocí funkce [`set_index()`](https://pandas.pydata.org/pandas-docs/stable/reference/api/pandas.DataFrame.set_index.html?target=\"_blank\")."
   ]
  },
  {
   "cell_type": "code",
   "execution_count": 4,
   "metadata": {},
   "outputs": [
    {
     "data": {
      "text/html": [
       "<div>\n",
       "<style scoped>\n",
       "    .dataframe tbody tr th:only-of-type {\n",
       "        vertical-align: middle;\n",
       "    }\n",
       "\n",
       "    .dataframe tbody tr th {\n",
       "        vertical-align: top;\n",
       "    }\n",
       "\n",
       "    .dataframe thead th {\n",
       "        text-align: right;\n",
       "    }\n",
       "</style>\n",
       "<table border=\"1\" class=\"dataframe\">\n",
       "  <thead>\n",
       "    <tr style=\"text-align: right;\">\n",
       "      <th></th>\n",
       "      <th></th>\n",
       "      <th>uzcis</th>\n",
       "      <th>uzkod</th>\n",
       "      <th>vse1111</th>\n",
       "      <th>vse1112</th>\n",
       "      <th>vse1113</th>\n",
       "      <th>vse1121</th>\n",
       "      <th>vse1122</th>\n",
       "      <th>vse1123</th>\n",
       "      <th>vse1131</th>\n",
       "      <th>vse1132</th>\n",
       "      <th>...</th>\n",
       "      <th>vse6193</th>\n",
       "      <th>vse61101</th>\n",
       "      <th>vse61102</th>\n",
       "      <th>vse61103</th>\n",
       "      <th>vse61111</th>\n",
       "      <th>vse61112</th>\n",
       "      <th>vse61113</th>\n",
       "      <th>vse61121</th>\n",
       "      <th>vse61122</th>\n",
       "      <th>vse61123</th>\n",
       "    </tr>\n",
       "    <tr>\n",
       "      <th>typuz_naz</th>\n",
       "      <th>nazev</th>\n",
       "      <th></th>\n",
       "      <th></th>\n",
       "      <th></th>\n",
       "      <th></th>\n",
       "      <th></th>\n",
       "      <th></th>\n",
       "      <th></th>\n",
       "      <th></th>\n",
       "      <th></th>\n",
       "      <th></th>\n",
       "      <th></th>\n",
       "      <th></th>\n",
       "      <th></th>\n",
       "      <th></th>\n",
       "      <th></th>\n",
       "      <th></th>\n",
       "      <th></th>\n",
       "      <th></th>\n",
       "      <th></th>\n",
       "      <th></th>\n",
       "      <th></th>\n",
       "    </tr>\n",
       "  </thead>\n",
       "  <tbody>\n",
       "    <tr>\n",
       "      <th rowspan=\"5\" valign=\"top\">kraj</th>\n",
       "      <th>Hlavní město Praha</th>\n",
       "      <td>100</td>\n",
       "      <td>3018</td>\n",
       "      <td>1268796.0</td>\n",
       "      <td>613738.0</td>\n",
       "      <td>655058.0</td>\n",
       "      <td>535604.0</td>\n",
       "      <td>285543.0</td>\n",
       "      <td>250061.0</td>\n",
       "      <td>494760.0</td>\n",
       "      <td>250059.0</td>\n",
       "      <td>...</td>\n",
       "      <td>294698.0</td>\n",
       "      <td>231135.0</td>\n",
       "      <td>83326.0</td>\n",
       "      <td>147809.0</td>\n",
       "      <td>147461.0</td>\n",
       "      <td>73622.0</td>\n",
       "      <td>73839.0</td>\n",
       "      <td>123182.0</td>\n",
       "      <td>72214.0</td>\n",
       "      <td>50968.0</td>\n",
       "    </tr>\n",
       "    <tr>\n",
       "      <th>Středočeský kraj</th>\n",
       "      <td>100</td>\n",
       "      <td>3026</td>\n",
       "      <td>1289211.0</td>\n",
       "      <td>637252.0</td>\n",
       "      <td>651959.0</td>\n",
       "      <td>507375.0</td>\n",
       "      <td>280621.0</td>\n",
       "      <td>226754.0</td>\n",
       "      <td>560242.0</td>\n",
       "      <td>281672.0</td>\n",
       "      <td>...</td>\n",
       "      <td>334656.0</td>\n",
       "      <td>266140.0</td>\n",
       "      <td>102500.0</td>\n",
       "      <td>163640.0</td>\n",
       "      <td>174154.0</td>\n",
       "      <td>87125.0</td>\n",
       "      <td>87029.0</td>\n",
       "      <td>66595.0</td>\n",
       "      <td>40072.0</td>\n",
       "      <td>26523.0</td>\n",
       "    </tr>\n",
       "    <tr>\n",
       "      <th>Jihočeský kraj</th>\n",
       "      <td>100</td>\n",
       "      <td>3034</td>\n",
       "      <td>628336.0</td>\n",
       "      <td>308296.0</td>\n",
       "      <td>320040.0</td>\n",
       "      <td>245650.0</td>\n",
       "      <td>135702.0</td>\n",
       "      <td>109948.0</td>\n",
       "      <td>273128.0</td>\n",
       "      <td>136620.0</td>\n",
       "      <td>...</td>\n",
       "      <td>169649.0</td>\n",
       "      <td>142858.0</td>\n",
       "      <td>55375.0</td>\n",
       "      <td>87483.0</td>\n",
       "      <td>90905.0</td>\n",
       "      <td>45122.0</td>\n",
       "      <td>45783.0</td>\n",
       "      <td>26619.0</td>\n",
       "      <td>15605.0</td>\n",
       "      <td>11014.0</td>\n",
       "    </tr>\n",
       "    <tr>\n",
       "      <th>Plzeňský kraj</th>\n",
       "      <td>100</td>\n",
       "      <td>3042</td>\n",
       "      <td>570401.0</td>\n",
       "      <td>282137.0</td>\n",
       "      <td>288264.0</td>\n",
       "      <td>222189.0</td>\n",
       "      <td>124170.0</td>\n",
       "      <td>98019.0</td>\n",
       "      <td>245661.0</td>\n",
       "      <td>123377.0</td>\n",
       "      <td>...</td>\n",
       "      <td>149000.0</td>\n",
       "      <td>130064.0</td>\n",
       "      <td>51112.0</td>\n",
       "      <td>78952.0</td>\n",
       "      <td>74891.0</td>\n",
       "      <td>37205.0</td>\n",
       "      <td>37686.0</td>\n",
       "      <td>31752.0</td>\n",
       "      <td>19261.0</td>\n",
       "      <td>12491.0</td>\n",
       "    </tr>\n",
       "    <tr>\n",
       "      <th>Karlovarský kraj</th>\n",
       "      <td>100</td>\n",
       "      <td>3051</td>\n",
       "      <td>295595.0</td>\n",
       "      <td>145483.0</td>\n",
       "      <td>150112.0</td>\n",
       "      <td>121610.0</td>\n",
       "      <td>67238.0</td>\n",
       "      <td>54372.0</td>\n",
       "      <td>113269.0</td>\n",
       "      <td>56712.0</td>\n",
       "      <td>...</td>\n",
       "      <td>74334.0</td>\n",
       "      <td>62774.0</td>\n",
       "      <td>23914.0</td>\n",
       "      <td>38860.0</td>\n",
       "      <td>38270.0</td>\n",
       "      <td>19367.0</td>\n",
       "      <td>18903.0</td>\n",
       "      <td>24405.0</td>\n",
       "      <td>13850.0</td>\n",
       "      <td>10555.0</td>\n",
       "    </tr>\n",
       "  </tbody>\n",
       "</table>\n",
       "<p>5 rows × 173 columns</p>\n",
       "</div>"
      ],
      "text/plain": [
       "                              uzcis  uzkod    vse1111   vse1112   vse1113  \\\n",
       "typuz_naz nazev                                                             \n",
       "kraj      Hlavní město Praha    100   3018  1268796.0  613738.0  655058.0   \n",
       "          Středočeský kraj      100   3026  1289211.0  637252.0  651959.0   \n",
       "          Jihočeský kraj        100   3034   628336.0  308296.0  320040.0   \n",
       "          Plzeňský kraj         100   3042   570401.0  282137.0  288264.0   \n",
       "          Karlovarský kraj      100   3051   295595.0  145483.0  150112.0   \n",
       "\n",
       "                               vse1121   vse1122   vse1123   vse1131  \\\n",
       "typuz_naz nazev                                                        \n",
       "kraj      Hlavní město Praha  535604.0  285543.0  250061.0  494760.0   \n",
       "          Středočeský kraj    507375.0  280621.0  226754.0  560242.0   \n",
       "          Jihočeský kraj      245650.0  135702.0  109948.0  273128.0   \n",
       "          Plzeňský kraj       222189.0  124170.0   98019.0  245661.0   \n",
       "          Karlovarský kraj    121610.0   67238.0   54372.0  113269.0   \n",
       "\n",
       "                               vse1132  ...   vse6193  vse61101  vse61102  \\\n",
       "typuz_naz nazev                         ...                                 \n",
       "kraj      Hlavní město Praha  250059.0  ...  294698.0  231135.0   83326.0   \n",
       "          Středočeský kraj    281672.0  ...  334656.0  266140.0  102500.0   \n",
       "          Jihočeský kraj      136620.0  ...  169649.0  142858.0   55375.0   \n",
       "          Plzeňský kraj       123377.0  ...  149000.0  130064.0   51112.0   \n",
       "          Karlovarský kraj     56712.0  ...   74334.0   62774.0   23914.0   \n",
       "\n",
       "                              vse61103  vse61111  vse61112  vse61113  \\\n",
       "typuz_naz nazev                                                        \n",
       "kraj      Hlavní město Praha  147809.0  147461.0   73622.0   73839.0   \n",
       "          Středočeský kraj    163640.0  174154.0   87125.0   87029.0   \n",
       "          Jihočeský kraj       87483.0   90905.0   45122.0   45783.0   \n",
       "          Plzeňský kraj        78952.0   74891.0   37205.0   37686.0   \n",
       "          Karlovarský kraj     38860.0   38270.0   19367.0   18903.0   \n",
       "\n",
       "                              vse61121  vse61122  vse61123  \n",
       "typuz_naz nazev                                             \n",
       "kraj      Hlavní město Praha  123182.0   72214.0   50968.0  \n",
       "          Středočeský kraj     66595.0   40072.0   26523.0  \n",
       "          Jihočeský kraj       26619.0   15605.0   11014.0  \n",
       "          Plzeňský kraj        31752.0   19261.0   12491.0  \n",
       "          Karlovarský kraj     24405.0   13850.0   10555.0  \n",
       "\n",
       "[5 rows x 173 columns]"
      ]
     },
     "metadata": {},
     "output_type": "display_data"
    }
   ],
   "source": [
    "data = data.set_index(['typuz_naz', 'nazev'])\n",
    "display(data.head())"
   ]
  },
  {
   "cell_type": "markdown",
   "metadata": {},
   "source": [
    "## Zpracování dat\n",
    "\n",
    "Nyní můžeme využít indexu *typuz_naz* k vyfiltrování územních jednotek typu *obec* pomocí funkce [`loc()`](https://pandas.pydata.org/pandas-docs/stable/reference/api/pandas.DataFrame.loc.html?target='_blank')."
   ]
  },
  {
   "cell_type": "code",
   "execution_count": 5,
   "metadata": {},
   "outputs": [
    {
     "data": {
      "text/html": [
       "<div>\n",
       "<style scoped>\n",
       "    .dataframe tbody tr th:only-of-type {\n",
       "        vertical-align: middle;\n",
       "    }\n",
       "\n",
       "    .dataframe tbody tr th {\n",
       "        vertical-align: top;\n",
       "    }\n",
       "\n",
       "    .dataframe thead th {\n",
       "        text-align: right;\n",
       "    }\n",
       "</style>\n",
       "<table border=\"1\" class=\"dataframe\">\n",
       "  <thead>\n",
       "    <tr style=\"text-align: right;\">\n",
       "      <th></th>\n",
       "      <th>uzcis</th>\n",
       "      <th>uzkod</th>\n",
       "      <th>vse1111</th>\n",
       "      <th>vse1112</th>\n",
       "      <th>vse1113</th>\n",
       "      <th>vse1121</th>\n",
       "      <th>vse1122</th>\n",
       "      <th>vse1123</th>\n",
       "      <th>vse1131</th>\n",
       "      <th>vse1132</th>\n",
       "      <th>...</th>\n",
       "      <th>vse6193</th>\n",
       "      <th>vse61101</th>\n",
       "      <th>vse61102</th>\n",
       "      <th>vse61103</th>\n",
       "      <th>vse61111</th>\n",
       "      <th>vse61112</th>\n",
       "      <th>vse61113</th>\n",
       "      <th>vse61121</th>\n",
       "      <th>vse61122</th>\n",
       "      <th>vse61123</th>\n",
       "    </tr>\n",
       "    <tr>\n",
       "      <th>nazev</th>\n",
       "      <th></th>\n",
       "      <th></th>\n",
       "      <th></th>\n",
       "      <th></th>\n",
       "      <th></th>\n",
       "      <th></th>\n",
       "      <th></th>\n",
       "      <th></th>\n",
       "      <th></th>\n",
       "      <th></th>\n",
       "      <th></th>\n",
       "      <th></th>\n",
       "      <th></th>\n",
       "      <th></th>\n",
       "      <th></th>\n",
       "      <th></th>\n",
       "      <th></th>\n",
       "      <th></th>\n",
       "      <th></th>\n",
       "      <th></th>\n",
       "      <th></th>\n",
       "    </tr>\n",
       "  </thead>\n",
       "  <tbody>\n",
       "    <tr>\n",
       "      <th>Želechovice nad Dřevnicí</th>\n",
       "      <td>43</td>\n",
       "      <td>500011</td>\n",
       "      <td>1911.0</td>\n",
       "      <td>947.0</td>\n",
       "      <td>964.0</td>\n",
       "      <td>696.0</td>\n",
       "      <td>390.0</td>\n",
       "      <td>306.0</td>\n",
       "      <td>935.0</td>\n",
       "      <td>467.0</td>\n",
       "      <td>...</td>\n",
       "      <td>514.0</td>\n",
       "      <td>473.0</td>\n",
       "      <td>185.0</td>\n",
       "      <td>288.0</td>\n",
       "      <td>285.0</td>\n",
       "      <td>145.0</td>\n",
       "      <td>140.0</td>\n",
       "      <td>62.0</td>\n",
       "      <td>34.0</td>\n",
       "      <td>28.0</td>\n",
       "    </tr>\n",
       "    <tr>\n",
       "      <th>Petrov nad Desnou</th>\n",
       "      <td>43</td>\n",
       "      <td>500020</td>\n",
       "      <td>1195.0</td>\n",
       "      <td>588.0</td>\n",
       "      <td>607.0</td>\n",
       "      <td>442.0</td>\n",
       "      <td>246.0</td>\n",
       "      <td>196.0</td>\n",
       "      <td>515.0</td>\n",
       "      <td>262.0</td>\n",
       "      <td>...</td>\n",
       "      <td>342.0</td>\n",
       "      <td>317.0</td>\n",
       "      <td>117.0</td>\n",
       "      <td>200.0</td>\n",
       "      <td>164.0</td>\n",
       "      <td>79.0</td>\n",
       "      <td>85.0</td>\n",
       "      <td>65.0</td>\n",
       "      <td>34.0</td>\n",
       "      <td>31.0</td>\n",
       "    </tr>\n",
       "    <tr>\n",
       "      <th>Libhošť</th>\n",
       "      <td>43</td>\n",
       "      <td>500046</td>\n",
       "      <td>1539.0</td>\n",
       "      <td>764.0</td>\n",
       "      <td>775.0</td>\n",
       "      <td>573.0</td>\n",
       "      <td>318.0</td>\n",
       "      <td>255.0</td>\n",
       "      <td>736.0</td>\n",
       "      <td>368.0</td>\n",
       "      <td>...</td>\n",
       "      <td>414.0</td>\n",
       "      <td>355.0</td>\n",
       "      <td>147.0</td>\n",
       "      <td>208.0</td>\n",
       "      <td>243.0</td>\n",
       "      <td>118.0</td>\n",
       "      <td>125.0</td>\n",
       "      <td>37.0</td>\n",
       "      <td>20.0</td>\n",
       "      <td>17.0</td>\n",
       "    </tr>\n",
       "    <tr>\n",
       "      <th>Veřovice</th>\n",
       "      <td>43</td>\n",
       "      <td>500259</td>\n",
       "      <td>1953.0</td>\n",
       "      <td>952.0</td>\n",
       "      <td>1001.0</td>\n",
       "      <td>798.0</td>\n",
       "      <td>428.0</td>\n",
       "      <td>370.0</td>\n",
       "      <td>873.0</td>\n",
       "      <td>436.0</td>\n",
       "      <td>...</td>\n",
       "      <td>576.0</td>\n",
       "      <td>450.0</td>\n",
       "      <td>175.0</td>\n",
       "      <td>275.0</td>\n",
       "      <td>347.0</td>\n",
       "      <td>154.0</td>\n",
       "      <td>193.0</td>\n",
       "      <td>47.0</td>\n",
       "      <td>31.0</td>\n",
       "      <td>16.0</td>\n",
       "    </tr>\n",
       "    <tr>\n",
       "      <th>Vřesina</th>\n",
       "      <td>43</td>\n",
       "      <td>500291</td>\n",
       "      <td>2693.0</td>\n",
       "      <td>1311.0</td>\n",
       "      <td>1382.0</td>\n",
       "      <td>939.0</td>\n",
       "      <td>509.0</td>\n",
       "      <td>430.0</td>\n",
       "      <td>1400.0</td>\n",
       "      <td>691.0</td>\n",
       "      <td>...</td>\n",
       "      <td>758.0</td>\n",
       "      <td>638.0</td>\n",
       "      <td>256.0</td>\n",
       "      <td>382.0</td>\n",
       "      <td>439.0</td>\n",
       "      <td>214.0</td>\n",
       "      <td>225.0</td>\n",
       "      <td>76.0</td>\n",
       "      <td>33.0</td>\n",
       "      <td>43.0</td>\n",
       "    </tr>\n",
       "  </tbody>\n",
       "</table>\n",
       "<p>5 rows × 173 columns</p>\n",
       "</div>"
      ],
      "text/plain": [
       "                          uzcis   uzkod  vse1111  vse1112  vse1113  vse1121  \\\n",
       "nazev                                                                         \n",
       "Želechovice nad Dřevnicí     43  500011   1911.0    947.0    964.0    696.0   \n",
       "Petrov nad Desnou            43  500020   1195.0    588.0    607.0    442.0   \n",
       "Libhošť                      43  500046   1539.0    764.0    775.0    573.0   \n",
       "Veřovice                     43  500259   1953.0    952.0   1001.0    798.0   \n",
       "Vřesina                      43  500291   2693.0   1311.0   1382.0    939.0   \n",
       "\n",
       "                          vse1122  vse1123  vse1131  vse1132  ...  vse6193  \\\n",
       "nazev                                                         ...            \n",
       "Želechovice nad Dřevnicí    390.0    306.0    935.0    467.0  ...    514.0   \n",
       "Petrov nad Desnou           246.0    196.0    515.0    262.0  ...    342.0   \n",
       "Libhošť                     318.0    255.0    736.0    368.0  ...    414.0   \n",
       "Veřovice                    428.0    370.0    873.0    436.0  ...    576.0   \n",
       "Vřesina                     509.0    430.0   1400.0    691.0  ...    758.0   \n",
       "\n",
       "                          vse61101  vse61102  vse61103  vse61111  vse61112  \\\n",
       "nazev                                                                        \n",
       "Želechovice nad Dřevnicí     473.0     185.0     288.0     285.0     145.0   \n",
       "Petrov nad Desnou            317.0     117.0     200.0     164.0      79.0   \n",
       "Libhošť                      355.0     147.0     208.0     243.0     118.0   \n",
       "Veřovice                     450.0     175.0     275.0     347.0     154.0   \n",
       "Vřesina                      638.0     256.0     382.0     439.0     214.0   \n",
       "\n",
       "                          vse61113  vse61121  vse61122  vse61123  \n",
       "nazev                                                             \n",
       "Želechovice nad Dřevnicí     140.0      62.0      34.0      28.0  \n",
       "Petrov nad Desnou             85.0      65.0      34.0      31.0  \n",
       "Libhošť                      125.0      37.0      20.0      17.0  \n",
       "Veřovice                     193.0      47.0      31.0      16.0  \n",
       "Vřesina                      225.0      76.0      33.0      43.0  \n",
       "\n",
       "[5 rows x 173 columns]"
      ]
     },
     "metadata": {},
     "output_type": "display_data"
    }
   ],
   "source": [
    "display(data.loc['obec'].head())"
   ]
  },
  {
   "cell_type": "markdown",
   "metadata": {},
   "source": [
    "Pokud chceme pracovat jen z daty týkajících se obcí, pak můžeme výstup z příkazu `data.loc['obec']` uložit do nové proměnné. \n",
    "Jestliže plánujeme tyto data pak dále měnít, je vhodné použít funkci [`copy()`](https://pandas.pydata.org/pandas-docs/stable/reference/api/pandas.DataFrame.copy.html?target='_blank') která vytvoří kopii vybraných dat, jinak\n",
    "nová proměnná bude jen ukazovat do původních dat a změny se tak promítnou i v proměnné `data`."
   ]
  },
  {
   "cell_type": "code",
   "execution_count": 6,
   "metadata": {},
   "outputs": [],
   "source": [
    "obce = data.loc['obec'].copy()"
   ]
  },
  {
   "cell_type": "markdown",
   "metadata": {},
   "source": [
    "Nyní můžeme jednoduše například spočítat počet všech obyvatel žijících v obcích v České republice v roce 2011.\n",
    "K tomu lze využít funkci [`sum()`](https://pandas.pydata.org/pandas-docs/stable/reference/api/pandas.DataFrame.sum.html?target='_blank'), \n",
    "která vrací součet po dané ose. Počet obyvatel je ve sloupci s kódem *vse1111*."
   ]
  },
  {
   "cell_type": "code",
   "execution_count": 7,
   "metadata": {},
   "outputs": [
    {
     "data": {
      "text/plain": [
       "10436560.0"
      ]
     },
     "metadata": {},
     "output_type": "display_data"
    }
   ],
   "source": [
    "display(obce['vse1111'].sum())"
   ]
  },
  {
   "cell_type": "markdown",
   "metadata": {},
   "source": [
    "Pokud si chceme rozdělit obce dle velikosti, pak čistě číslo počtu obyvatel nestačí. Pomocí funkce [`cut()`](https://pandas.pydata.org/pandas-docs/stable/reference/api/pandas.cut.html?target='blank') můžeme data rozdělit do košů\n",
    "dle daných mezí. Nejprve si nadefinujeme názvy jednotlivých velikostí, tedy jednotlivých košů."
   ]
  },
  {
   "cell_type": "code",
   "execution_count": 8,
   "metadata": {},
   "outputs": [],
   "source": [
    "velikosti = ['0-1999', '2000-4999', '5000-9999', \n",
    "             '10000-49999', '50000 a vic']"
   ]
  },
  {
   "cell_type": "markdown",
   "metadata": {},
   "source": [
    "Pak pomocí funkce [`cut()`](https://pandas.pydata.org/pandas-docs/stable/reference/api/pandas.cut.html?target='blank') \n",
    "provedeme rozdělení do košů. První parametr je sloupec vstupních dat, druhý parametr jsou hranice jednotlivých košů, kde poslední hranice je nastavena tak, aby do posledního koše padla i největší obec (Praha). \n",
    "Parametr `label` definuje názvy košů. Výsledek je přiřazen zpět do proměnné obec pomocí funkce [`loc()`](https://pandas.pydata.org/pandas-docs/stable/reference/api/pandas.DataFrame.loc.html?target='_blank'), kde `:` je zástupný\n",
    "znak pro všechny řádky a `'velikost'` je název sloupce. Jelikož tento slouec v proměnné `obce` neexistuje, bude vytvořen."
   ]
  },
  {
   "cell_type": "code",
   "execution_count": 9,
   "metadata": {},
   "outputs": [],
   "source": [
    "obce.loc[:, 'velikost'] = pd.cut(obce.vse1111, \n",
    "                          [0, 1999, 4999, 9999, 49999, 10000000], \n",
    "                          labels=velikosti)"
   ]
  },
  {
   "cell_type": "markdown",
   "metadata": {},
   "source": [
    "Pro kontrolu si můžeme vypsat sloupec `'velikost'` v proměnné `obce`."
   ]
  },
  {
   "cell_type": "code",
   "execution_count": 10,
   "metadata": {},
   "outputs": [
    {
     "data": {
      "text/plain": [
       "nazev\n",
       "Želechovice nad Dřevnicí       0-1999\n",
       "Petrov nad Desnou              0-1999\n",
       "Libhošť                        0-1999\n",
       "Veřovice                       0-1999\n",
       "Vřesina                     2000-4999\n",
       "                              ...    \n",
       "Suchdol nad Odrou           2000-4999\n",
       "Štramberk                   2000-4999\n",
       "Tichá                          0-1999\n",
       "Tísek                          0-1999\n",
       "Trojanovice                 2000-4999\n",
       "Name: velikost, Length: 6251, dtype: category\n",
       "Categories (5, object): [0-1999 < 2000-4999 < 5000-9999 < 10000-49999 < 50000 a vic]"
      ]
     },
     "metadata": {},
     "output_type": "display_data"
    }
   ],
   "source": [
    "display(obce['velikost'])"
   ]
  },
  {
   "cell_type": "markdown",
   "metadata": {},
   "source": [
    "Nyní si můžeme například vypsat počet obyvatel v obcích se stejnou velikostí. K tomu využijem funkci [`groupby()`](https://pandas.pydata.org/pandas-docs/stable/reference/api/pandas.DataFrame.groupby.html?target='blank'), která\n",
    "seksupí data dle daného sloupce. Na takto seksupených datech je pak použita funkce [`sum()`](https://pandas.pydata.org/pandas-docs/stable/reference/api/pandas.DataFrame.sum.html?target='_blank')."
   ]
  },
  {
   "cell_type": "code",
   "execution_count": 11,
   "metadata": {},
   "outputs": [
    {
     "data": {
      "text/plain": [
       "velikost\n",
       "0-1999         2786110.0\n",
       "2000-4999      1228315.0\n",
       "5000-9999       933230.0\n",
       "10000-49999    2285110.0\n",
       "50000 a vic    3203795.0\n",
       "Name: vse1111, dtype: float64"
      ]
     },
     "execution_count": 11,
     "metadata": {},
     "output_type": "execute_result"
    }
   ],
   "source": [
    "obce.groupby('velikost')['vse1111'].sum()"
   ]
  },
  {
   "cell_type": "markdown",
   "metadata": {},
   "source": [
    "Pokud nás zajímá procentuální rozložení obyvatelstva dle velikosti obce, stačí výsledek vidělit celkovým počtem obyvatel."
   ]
  },
  {
   "cell_type": "code",
   "execution_count": 12,
   "metadata": {},
   "outputs": [
    {
     "data": {
      "text/plain": [
       "velikost\n",
       "0-1999         0.266957\n",
       "2000-4999      0.117693\n",
       "5000-9999      0.089419\n",
       "10000-49999    0.218952\n",
       "50000 a vic    0.306978\n",
       "Name: vse1111, dtype: float64"
      ]
     },
     "execution_count": 12,
     "metadata": {},
     "output_type": "execute_result"
    }
   ],
   "source": [
    "obce.groupby('velikost')['vse1111'].sum()/obce['vse1111'].sum()"
   ]
  },
  {
   "cell_type": "markdown",
   "metadata": {},
   "source": [
    "Výsledek je ve formě desetiných čísel se součtem 1. Pro převod na procenta výsledek uložíme do nové proměnné `rozlozeni`, přejmenujeme jí změnou atributu `name` a na ní pak aplikujeme funkci agregační funkci [`agg()`](https://pandas.pydata.org/pandas-docs/stable/reference/api/pandas.DataFrame.agg.html?target='_blank'), která aplikuje na každou buňku dat funkci, která je předána jako parametr.\n",
    "Tu definujeme jako lambda funkci s jedním vstupem `x` a návratovou hodnotou ve formě formátovaného řetězce."
   ]
  },
  {
   "cell_type": "code",
   "execution_count": 13,
   "metadata": {},
   "outputs": [
    {
     "data": {
      "text/plain": [
       "velikost\n",
       "0-1999         26.70%\n",
       "2000-4999      11.77%\n",
       "5000-9999       8.94%\n",
       "10000-49999    21.90%\n",
       "50000 a vic    30.70%\n",
       "Name: Rozložení počtu obyvatel dle velikostí obcí, dtype: object"
      ]
     },
     "metadata": {},
     "output_type": "display_data"
    }
   ],
   "source": [
    "rozlozeni = obce.groupby('velikost')['vse1111'].sum()/obce['vse1111'].sum()\n",
    "rozlozeni.name = 'Rozložení počtu obyvatel dle velikostí obcí'\n",
    "display(rozlozeni.agg(lambda x: '{0:.2f}%'.format(x*100)))"
   ]
  },
  {
   "cell_type": "markdown",
   "metadata": {},
   "source": [
    "Stejným způsobem se můžeme podívat například na rozložení přihlášení se občanů k Římskokatolické \n",
    "církvi (sloupec `'vse5141'`) dle velikosti obce. "
   ]
  },
  {
   "cell_type": "code",
   "execution_count": 14,
   "metadata": {},
   "outputs": [],
   "source": [
    "data_rk = obce.groupby('velikost')['vse5141'].sum()/obce.groupby('velikost')['vse1111'].sum()"
   ]
  },
  {
   "cell_type": "code",
   "execution_count": 15,
   "metadata": {},
   "outputs": [
    {
     "data": {
      "text/plain": [
       "velikost\n",
       "0-1999         13.82%\n",
       "2000-4999      12.70%\n",
       "5000-9999      10.81%\n",
       "10000-49999     8.41%\n",
       "50000 a vic     7.76%\n",
       "dtype: object"
      ]
     },
     "execution_count": 15,
     "metadata": {},
     "output_type": "execute_result"
    }
   ],
   "source": [
    "data_rk.agg(lambda x: '{0:.2f}%'.format(x*100))"
   ]
  },
  {
   "cell_type": "markdown",
   "metadata": {},
   "source": [
    "Pomocí funkce [`describe()`](https://pandas.pydata.org/pandas-docs/stable/reference/api/pandas.DataFrame.describe.html?target='_blank') zobrazíme základní statistické shrnutí dat."
   ]
  },
  {
   "cell_type": "code",
   "execution_count": 16,
   "metadata": {},
   "outputs": [
    {
     "data": {
      "text/html": [
       "<div>\n",
       "<style scoped>\n",
       "    .dataframe tbody tr th:only-of-type {\n",
       "        vertical-align: middle;\n",
       "    }\n",
       "\n",
       "    .dataframe tbody tr th {\n",
       "        vertical-align: top;\n",
       "    }\n",
       "\n",
       "    .dataframe thead th {\n",
       "        text-align: right;\n",
       "    }\n",
       "</style>\n",
       "<table border=\"1\" class=\"dataframe\">\n",
       "  <thead>\n",
       "    <tr style=\"text-align: right;\">\n",
       "      <th></th>\n",
       "      <th>count</th>\n",
       "      <th>mean</th>\n",
       "      <th>std</th>\n",
       "      <th>min</th>\n",
       "      <th>25%</th>\n",
       "      <th>50%</th>\n",
       "      <th>75%</th>\n",
       "      <th>max</th>\n",
       "    </tr>\n",
       "    <tr>\n",
       "      <th>velikost</th>\n",
       "      <th></th>\n",
       "      <th></th>\n",
       "      <th></th>\n",
       "      <th></th>\n",
       "      <th></th>\n",
       "      <th></th>\n",
       "      <th></th>\n",
       "      <th></th>\n",
       "    </tr>\n",
       "  </thead>\n",
       "  <tbody>\n",
       "    <tr>\n",
       "      <th>0-1999</th>\n",
       "      <td>5584.0</td>\n",
       "      <td>68.942514</td>\n",
       "      <td>95.813908</td>\n",
       "      <td>0.0</td>\n",
       "      <td>14.0</td>\n",
       "      <td>35.0</td>\n",
       "      <td>83.00</td>\n",
       "      <td>1079.0</td>\n",
       "    </tr>\n",
       "    <tr>\n",
       "      <th>2000-4999</th>\n",
       "      <td>402.0</td>\n",
       "      <td>387.947761</td>\n",
       "      <td>357.266143</td>\n",
       "      <td>19.0</td>\n",
       "      <td>133.0</td>\n",
       "      <td>287.5</td>\n",
       "      <td>488.75</td>\n",
       "      <td>2351.0</td>\n",
       "    </tr>\n",
       "    <tr>\n",
       "      <th>5000-9999</th>\n",
       "      <td>135.0</td>\n",
       "      <td>747.185185</td>\n",
       "      <td>506.347341</td>\n",
       "      <td>155.0</td>\n",
       "      <td>344.0</td>\n",
       "      <td>654.0</td>\n",
       "      <td>1020.00</td>\n",
       "      <td>2563.0</td>\n",
       "    </tr>\n",
       "    <tr>\n",
       "      <th>10000-49999</th>\n",
       "      <td>112.0</td>\n",
       "      <td>1715.098214</td>\n",
       "      <td>1287.879638</td>\n",
       "      <td>298.0</td>\n",
       "      <td>740.0</td>\n",
       "      <td>1287.0</td>\n",
       "      <td>2317.50</td>\n",
       "      <td>6054.0</td>\n",
       "    </tr>\n",
       "    <tr>\n",
       "      <th>50000 a vic</th>\n",
       "      <td>18.0</td>\n",
       "      <td>13809.555556</td>\n",
       "      <td>19840.058981</td>\n",
       "      <td>1564.0</td>\n",
       "      <td>5194.5</td>\n",
       "      <td>6462.5</td>\n",
       "      <td>10919.50</td>\n",
       "      <td>80158.0</td>\n",
       "    </tr>\n",
       "  </tbody>\n",
       "</table>\n",
       "</div>"
      ],
      "text/plain": [
       "              count          mean           std     min     25%     50%  \\\n",
       "velikost                                                                  \n",
       "0-1999       5584.0     68.942514     95.813908     0.0    14.0    35.0   \n",
       "2000-4999     402.0    387.947761    357.266143    19.0   133.0   287.5   \n",
       "5000-9999     135.0    747.185185    506.347341   155.0   344.0   654.0   \n",
       "10000-49999   112.0   1715.098214   1287.879638   298.0   740.0  1287.0   \n",
       "50000 a vic    18.0  13809.555556  19840.058981  1564.0  5194.5  6462.5   \n",
       "\n",
       "                  75%      max  \n",
       "velikost                        \n",
       "0-1999          83.00   1079.0  \n",
       "2000-4999      488.75   2351.0  \n",
       "5000-9999     1020.00   2563.0  \n",
       "10000-49999   2317.50   6054.0  \n",
       "50000 a vic  10919.50  80158.0  "
      ]
     },
     "execution_count": 16,
     "metadata": {},
     "output_type": "execute_result"
    }
   ],
   "source": [
    "obce.groupby('velikost')['vse5141'].describe()"
   ]
  },
  {
   "cell_type": "markdown",
   "metadata": {},
   "source": [
    "Zde vidíme, že ve skupině nejmenších obcí o velikosti do 1999 obyvatel jsou obce, ve kterých se k Římskokatolické církvi nepřihlásil během sčítání nikdo. Pokud by nás zajímalo, které obce to jsou, pak je možné využít indexování pomocí binárního vektoru. Porovnáním `obce.vse5141 == 0` získáme binární vektor o stejné délce, jako počet řádek\n",
    "v `DataFrame` `obce`. Tento vektor pak lze využít k vyfiltrování řádků zplňujících podmínku jednodychým využitím\n",
    "získaného vektoru jako binárního indexu."
   ]
  },
  {
   "cell_type": "code",
   "execution_count": 17,
   "metadata": {},
   "outputs": [
    {
     "data": {
      "text/plain": [
       "nazev\n",
       "Čichalov         0.0\n",
       "Skalka u Doks    0.0\n",
       "Ždírec           0.0\n",
       "Hněvnice         0.0\n",
       "Čerňovice        0.0\n",
       "Kařízek          0.0\n",
       "Janská           0.0\n",
       "Blšany u Loun    0.0\n",
       "Kozly            0.0\n",
       "Staňkovice       0.0\n",
       "Dílce            0.0\n",
       "Velenice         0.0\n",
       "Všestudy         0.0\n",
       "Chotiněves       0.0\n",
       "Všesulov         0.0\n",
       "Karlova Ves      0.0\n",
       "Václavy          0.0\n",
       "Siřejovice       0.0\n",
       "Čečovice         0.0\n",
       "Hvožďany         0.0\n",
       "Slatina          0.0\n",
       "Habrovany        0.0\n",
       "Nemyslovice      0.0\n",
       "Pravy            0.0\n",
       "Holenice         0.0\n",
       "Vísky            0.0\n",
       "Březina          0.0\n",
       "Přerubenice      0.0\n",
       "Stradonice       0.0\n",
       "Name: vse5141, dtype: float64"
      ]
     },
     "execution_count": 17,
     "metadata": {},
     "output_type": "execute_result"
    }
   ],
   "source": [
    "obce[obce.vse5141 == 0]['vse5141']"
   ]
  },
  {
   "cell_type": "markdown",
   "metadata": {},
   "source": [
    "Pro další analýzu bude potřeba rozdělit obce dle procentuálního podílu obyvatel hlásících se k Římskokatolické církvi.  Nejdříve vytvoříme nový sloupec který bude obsahovat zmíněný procentuální podíl:  "
   ]
  },
  {
   "cell_type": "code",
   "execution_count": 18,
   "metadata": {},
   "outputs": [],
   "source": [
    "obce['rims_katol'] = obce['vse5141']/obce['vse1111']*100"
   ]
  },
  {
   "cell_type": "markdown",
   "metadata": {},
   "source": [
    "Pak nadefinumejeme `list()` obsahující názvy kategorií do kterých budeme obce dělit:  "
   ]
  },
  {
   "cell_type": "code",
   "execution_count": 19,
   "metadata": {},
   "outputs": [],
   "source": [
    "procenta = ['do 10%', '10-30%', '31-50%', '51-75%', '75-100%']"
   ]
  },
  {
   "cell_type": "markdown",
   "metadata": {},
   "source": [
    "A nakonec opět využijeme funkci [`cut()`](https://pandas.pydata.org/pandas-docs/stable/reference/api/pandas.cut.html?target='blank')"
   ]
  },
  {
   "cell_type": "code",
   "execution_count": 20,
   "metadata": {},
   "outputs": [],
   "source": [
    "obce['rims_katol_cat']=pd.cut(obce.rims_katol, [0,10,30,50,75,100],\n",
    "                             right=False, labels=procenta)"
   ]
  },
  {
   "cell_type": "markdown",
   "metadata": {},
   "source": [
    "Nyní můžeme vytvořit kontingenční tabulku, která zobrazí počet obcí spadajících do dvou skupin kategorií (velikost a procentuální podíl Římských katolíků). K tomu lze použít funkci [`crosstab()`](https://pandas.pydata.org/pandas-docs/stable/reference/api/pandas.crosstab.html)."
   ]
  },
  {
   "cell_type": "code",
   "execution_count": 21,
   "metadata": {},
   "outputs": [
    {
     "data": {
      "text/html": [
       "<div>\n",
       "<style scoped>\n",
       "    .dataframe tbody tr th:only-of-type {\n",
       "        vertical-align: middle;\n",
       "    }\n",
       "\n",
       "    .dataframe tbody tr th {\n",
       "        vertical-align: top;\n",
       "    }\n",
       "\n",
       "    .dataframe thead th {\n",
       "        text-align: right;\n",
       "    }\n",
       "</style>\n",
       "<table border=\"1\" class=\"dataframe\">\n",
       "  <thead>\n",
       "    <tr style=\"text-align: right;\">\n",
       "      <th>rims_katol_cat</th>\n",
       "      <th>do 10%</th>\n",
       "      <th>10-30%</th>\n",
       "      <th>31-50%</th>\n",
       "      <th>51-75%</th>\n",
       "      <th>75-100%</th>\n",
       "    </tr>\n",
       "    <tr>\n",
       "      <th>velikost</th>\n",
       "      <th></th>\n",
       "      <th></th>\n",
       "      <th></th>\n",
       "      <th></th>\n",
       "      <th></th>\n",
       "    </tr>\n",
       "  </thead>\n",
       "  <tbody>\n",
       "    <tr>\n",
       "      <th>0-1999</th>\n",
       "      <td>2672</td>\n",
       "      <td>2252</td>\n",
       "      <td>568</td>\n",
       "      <td>91</td>\n",
       "      <td>1</td>\n",
       "    </tr>\n",
       "    <tr>\n",
       "      <th>2000-4999</th>\n",
       "      <td>213</td>\n",
       "      <td>155</td>\n",
       "      <td>26</td>\n",
       "      <td>8</td>\n",
       "      <td>0</td>\n",
       "    </tr>\n",
       "    <tr>\n",
       "      <th>5000-9999</th>\n",
       "      <td>75</td>\n",
       "      <td>54</td>\n",
       "      <td>6</td>\n",
       "      <td>0</td>\n",
       "      <td>0</td>\n",
       "    </tr>\n",
       "    <tr>\n",
       "      <th>10000-49999</th>\n",
       "      <td>74</td>\n",
       "      <td>37</td>\n",
       "      <td>1</td>\n",
       "      <td>0</td>\n",
       "      <td>0</td>\n",
       "    </tr>\n",
       "    <tr>\n",
       "      <th>50000 a vic</th>\n",
       "      <td>11</td>\n",
       "      <td>7</td>\n",
       "      <td>0</td>\n",
       "      <td>0</td>\n",
       "      <td>0</td>\n",
       "    </tr>\n",
       "  </tbody>\n",
       "</table>\n",
       "</div>"
      ],
      "text/plain": [
       "rims_katol_cat  do 10%  10-30%  31-50%  51-75%  75-100%\n",
       "velikost                                               \n",
       "0-1999            2672    2252     568      91        1\n",
       "2000-4999          213     155      26       8        0\n",
       "5000-9999           75      54       6       0        0\n",
       "10000-49999         74      37       1       0        0\n",
       "50000 a vic         11       7       0       0        0"
      ]
     },
     "execution_count": 21,
     "metadata": {},
     "output_type": "execute_result"
    }
   ],
   "source": [
    "pd.crosstab(obce.velikost, obce.rims_katol_cat)"
   ]
  },
  {
   "cell_type": "markdown",
   "metadata": {},
   "source": [
    "Nakonec si pomocí knihovny `seaborn` vykreslíme krabicový graf, který zobrazí statistické rozložení procentuálního zastoupení římských katolíků dle velikostí obcí. Graf vykreslíme funkcí [`seaborn.boxplot()`](https://seaborn.pydata.org/generated/seaborn.boxplot.html?target='_blank'), kde parametry `x` a `y` jsou názvy sloubců v `data=obce`. "
   ]
  },
  {
   "cell_type": "code",
   "execution_count": 22,
   "metadata": {},
   "outputs": [
    {
     "data": {
      "image/png": "[encoded data removed]",
      "text/plain": [
       "<Figure size 432x288 with 1 Axes>"
      ]
     },
     "metadata": {
      "needs_background": "light"
     },
     "output_type": "display_data"
    }
   ],
   "source": [
    "sns.boxplot(x='velikost', y='rims_katol', data=obce);"
   ]
  },
  {
   "cell_type": "code",
   "execution_count": null,
   "metadata": {},
   "outputs": [],
   "source": []
  }
 ],
 "metadata": {
  "kernelspec": {
   "display_name": "Python 3",
   "language": "python",
   "name": "python3"
  },
  "language_info": {
   "codemirror_mode": {
    "name": "ipython",
    "version": 3
   },
   "file_extension": ".py",
   "mimetype": "text/x-python",
   "name": "python",
   "nbconvert_exporter": "python",
   "pygments_lexer": "ipython3",
   "version": "3.6.3"
  }
 },
 "nbformat": 4,
 "nbformat_minor": 2
}
